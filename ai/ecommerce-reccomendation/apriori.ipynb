{
  "cells": [
    {
      "cell_type": "markdown",
      "metadata": {
        "colab_type": "text",
        "id": "1fziHl7Ar94J"
      },
      "source": [
        "# Apriori"
      ]
    },
    {
      "cell_type": "markdown",
      "metadata": {
        "colab_type": "text",
        "id": "eiNwni1xsEgT"
      },
      "source": [
        "## Importing the libraries"
      ]
    },
    {
      "cell_type": "code",
      "execution_count": 66,
      "metadata": {
        "colab": {
          "base_uri": "https://localhost:8080/",
          "height": 34
        },
        "colab_type": "code",
        "id": "DUF77Qr1vqyM",
        "outputId": "c4c2d702-9e4b-414c-bb3e-caa543b487f0"
      },
      "outputs": [
        {
          "name": "stdout",
          "output_type": "stream",
          "text": [
            "Defaulting to user installation because normal site-packages is not writeable\n",
            "Requirement already satisfied: apyori in /home/aac/.local/lib/python3.10/site-packages (1.1.2)\n"
          ]
        }
      ],
      "source": [
        "!pip install apyori"
      ]
    },
    {
      "cell_type": "code",
      "execution_count": 67,
      "metadata": {
        "colab": {},
        "colab_type": "code",
        "id": "UJfitBClsJlT"
      },
      "outputs": [],
      "source": [
        "import numpy as np\n",
        "import matplotlib.pyplot as plt\n",
        "import pandas as pd"
      ]
    },
    {
      "cell_type": "markdown",
      "metadata": {
        "colab_type": "text",
        "id": "vLt-7XUKsXBd"
      },
      "source": [
        "## Data Preprocessing"
      ]
    },
    {
      "cell_type": "code",
      "execution_count": 68,
      "metadata": {
        "colab": {},
        "colab_type": "code",
        "id": "J_A-UFOAsaDf"
      },
      "outputs": [],
      "source": [
        "dataset = pd.read_csv('data.csv', header = None)\n",
        "transactions = []\n",
        "\n",
        "\n",
        "for i in range(len(dataset)):\n",
        "  transactions.append([str(dataset.values[i,j]) for j in range(9)])\n"
      ]
    },
    {
      "cell_type": "markdown",
      "metadata": {
        "colab_type": "text",
        "id": "1wYZdBd5sea_"
      },
      "source": [
        "## Training the Apriori model on the dataset"
      ]
    },
    {
      "cell_type": "code",
      "execution_count": 69,
      "metadata": {
        "colab": {},
        "colab_type": "code",
        "id": "YzIk4vXZsj5i"
      },
      "outputs": [],
      "source": [
        "from apyori import apriori\n",
        "rules = apriori(transactions = transactions, min_support = 0.003, min_confidence = 0.2, min_lift = 3, min_length = 2, max_length = 2)"
      ]
    },
    {
      "cell_type": "markdown",
      "metadata": {
        "colab_type": "text",
        "id": "b176YNwWspiO"
      },
      "source": [
        "## Visualising the results"
      ]
    },
    {
      "cell_type": "markdown",
      "metadata": {
        "colab_type": "text",
        "id": "iO6bF_dImT-E"
      },
      "source": [
        "### Displaying the first results coming directly from the output of the apriori function"
      ]
    },
    {
      "cell_type": "code",
      "execution_count": 70,
      "metadata": {
        "colab": {},
        "colab_type": "code",
        "id": "kvF-sLc6ifhd"
      },
      "outputs": [],
      "source": [
        "results = list(rules)"
      ]
    },
    {
      "cell_type": "code",
      "execution_count": 71,
      "metadata": {
        "colab": {
          "base_uri": "https://localhost:8080/",
          "height": 191
        },
        "colab_type": "code",
        "id": "eAD8Co4_l9IE",
        "outputId": "d8523472-b36f-4020-c6fc-01ee3a0d8a86"
      },
      "outputs": [
        {
          "data": {
            "text/plain": [
              "[RelationRecord(items=frozenset({'1.0', '2.0'}), support=0.0392156862745098, ordered_statistics=[OrderedStatistic(items_base=frozenset({'1.0'}), items_add=frozenset({'2.0'}), confidence=0.3333333333333333, lift=4.25), OrderedStatistic(items_base=frozenset({'2.0'}), items_add=frozenset({'1.0'}), confidence=0.5, lift=4.25)]),\n",
              " RelationRecord(items=frozenset({'3.0', '1.0'}), support=0.09803921568627451, ordered_statistics=[OrderedStatistic(items_base=frozenset({'1.0'}), items_add=frozenset({'3.0'}), confidence=0.8333333333333334, lift=6.071428571428571), OrderedStatistic(items_base=frozenset({'3.0'}), items_add=frozenset({'1.0'}), confidence=0.7142857142857142, lift=6.07142857142857)]),\n",
              " RelationRecord(items=frozenset({'1.0', '6.0'}), support=0.058823529411764705, ordered_statistics=[OrderedStatistic(items_base=frozenset({'1.0'}), items_add=frozenset({'6.0'}), confidence=0.5, lift=3.6428571428571423), OrderedStatistic(items_base=frozenset({'6.0'}), items_add=frozenset({'1.0'}), confidence=0.42857142857142855, lift=3.642857142857143)]),\n",
              " RelationRecord(items=frozenset({'3.0', '2.0'}), support=0.0392156862745098, ordered_statistics=[OrderedStatistic(items_base=frozenset({'2.0'}), items_add=frozenset({'3.0'}), confidence=0.5, lift=3.6428571428571423), OrderedStatistic(items_base=frozenset({'3.0'}), items_add=frozenset({'2.0'}), confidence=0.2857142857142857, lift=3.642857142857143)]),\n",
              " RelationRecord(items=frozenset({'2.0', '4.0'}), support=0.0196078431372549, ordered_statistics=[OrderedStatistic(items_base=frozenset({'2.0'}), items_add=frozenset({'4.0'}), confidence=0.25, lift=4.25), OrderedStatistic(items_base=frozenset({'4.0'}), items_add=frozenset({'2.0'}), confidence=0.3333333333333333, lift=4.25)]),\n",
              " RelationRecord(items=frozenset({'2.0', '6.0'}), support=0.0392156862745098, ordered_statistics=[OrderedStatistic(items_base=frozenset({'2.0'}), items_add=frozenset({'6.0'}), confidence=0.5, lift=3.6428571428571423), OrderedStatistic(items_base=frozenset({'6.0'}), items_add=frozenset({'2.0'}), confidence=0.2857142857142857, lift=3.642857142857143)]),\n",
              " RelationRecord(items=frozenset({'3.0', '4.0'}), support=0.0392156862745098, ordered_statistics=[OrderedStatistic(items_base=frozenset({'3.0'}), items_add=frozenset({'4.0'}), confidence=0.2857142857142857, lift=4.857142857142857), OrderedStatistic(items_base=frozenset({'4.0'}), items_add=frozenset({'3.0'}), confidence=0.6666666666666666, lift=4.857142857142857)]),\n",
              " RelationRecord(items=frozenset({'3.0', '6.0'}), support=0.0784313725490196, ordered_statistics=[OrderedStatistic(items_base=frozenset({'3.0'}), items_add=frozenset({'6.0'}), confidence=0.5714285714285714, lift=4.163265306122448), OrderedStatistic(items_base=frozenset({'6.0'}), items_add=frozenset({'3.0'}), confidence=0.5714285714285714, lift=4.163265306122448)]),\n",
              " RelationRecord(items=frozenset({'4.0', '6.0'}), support=0.058823529411764705, ordered_statistics=[OrderedStatistic(items_base=frozenset({'4.0'}), items_add=frozenset({'6.0'}), confidence=1.0, lift=7.285714285714285), OrderedStatistic(items_base=frozenset({'6.0'}), items_add=frozenset({'4.0'}), confidence=0.42857142857142855, lift=7.285714285714286)])]"
            ]
          },
          "execution_count": 71,
          "metadata": {},
          "output_type": "execute_result"
        }
      ],
      "source": [
        "results"
      ]
    },
    {
      "cell_type": "markdown",
      "metadata": {
        "colab_type": "text",
        "id": "MFkQP-fcjDBC"
      },
      "source": [
        "### Putting the results well organised into a Pandas DataFrame"
      ]
    },
    {
      "cell_type": "code",
      "execution_count": 72,
      "metadata": {
        "colab": {},
        "colab_type": "code",
        "id": "gyq7Poi0mMUe"
      },
      "outputs": [],
      "source": [
        "def inspect(results):\n",
        "    lhs         = [tuple(result[2][0][0])[0] for result in results]\n",
        "    rhs         = [tuple(result[2][0][1])[0] for result in results]\n",
        "    supports    = [result[1] for result in results]\n",
        "    confidences = [result[2][0][2] for result in results]\n",
        "    lifts       = [result[2][0][3] for result in results]\n",
        "    return list(zip(lhs, rhs, supports, confidences, lifts))\n",
        "resultsinDataFrame = pd.DataFrame(inspect(results), columns = ['Left Hand Side', 'Right Hand Side', 'Support', 'Confidence', 'Lift'])"
      ]
    },
    {
      "cell_type": "markdown",
      "metadata": {
        "colab_type": "text",
        "id": "Pfn-G1eAjjLz"
      },
      "source": [
        "### Displaying the results non sorted"
      ]
    },
    {
      "cell_type": "code",
      "execution_count": 73,
      "metadata": {
        "colab": {
          "base_uri": "https://localhost:8080/",
          "height": 326
        },
        "colab_type": "code",
        "id": "CmDCcs_6ip9V",
        "outputId": "2170915c-075e-455e-b65b-6ae8d1a62166"
      },
      "outputs": [
        {
          "data": {
            "text/html": [
              "<div>\n",
              "<style scoped>\n",
              "    .dataframe tbody tr th:only-of-type {\n",
              "        vertical-align: middle;\n",
              "    }\n",
              "\n",
              "    .dataframe tbody tr th {\n",
              "        vertical-align: top;\n",
              "    }\n",
              "\n",
              "    .dataframe thead th {\n",
              "        text-align: right;\n",
              "    }\n",
              "</style>\n",
              "<table border=\"1\" class=\"dataframe\">\n",
              "  <thead>\n",
              "    <tr style=\"text-align: right;\">\n",
              "      <th></th>\n",
              "      <th>Left Hand Side</th>\n",
              "      <th>Right Hand Side</th>\n",
              "      <th>Support</th>\n",
              "      <th>Confidence</th>\n",
              "      <th>Lift</th>\n",
              "    </tr>\n",
              "  </thead>\n",
              "  <tbody>\n",
              "    <tr>\n",
              "      <th>0</th>\n",
              "      <td>1.0</td>\n",
              "      <td>2.0</td>\n",
              "      <td>0.039216</td>\n",
              "      <td>0.333333</td>\n",
              "      <td>4.250000</td>\n",
              "    </tr>\n",
              "    <tr>\n",
              "      <th>1</th>\n",
              "      <td>1.0</td>\n",
              "      <td>3.0</td>\n",
              "      <td>0.098039</td>\n",
              "      <td>0.833333</td>\n",
              "      <td>6.071429</td>\n",
              "    </tr>\n",
              "    <tr>\n",
              "      <th>2</th>\n",
              "      <td>1.0</td>\n",
              "      <td>6.0</td>\n",
              "      <td>0.058824</td>\n",
              "      <td>0.500000</td>\n",
              "      <td>3.642857</td>\n",
              "    </tr>\n",
              "    <tr>\n",
              "      <th>3</th>\n",
              "      <td>2.0</td>\n",
              "      <td>3.0</td>\n",
              "      <td>0.039216</td>\n",
              "      <td>0.500000</td>\n",
              "      <td>3.642857</td>\n",
              "    </tr>\n",
              "    <tr>\n",
              "      <th>4</th>\n",
              "      <td>2.0</td>\n",
              "      <td>4.0</td>\n",
              "      <td>0.019608</td>\n",
              "      <td>0.250000</td>\n",
              "      <td>4.250000</td>\n",
              "    </tr>\n",
              "    <tr>\n",
              "      <th>5</th>\n",
              "      <td>2.0</td>\n",
              "      <td>6.0</td>\n",
              "      <td>0.039216</td>\n",
              "      <td>0.500000</td>\n",
              "      <td>3.642857</td>\n",
              "    </tr>\n",
              "    <tr>\n",
              "      <th>6</th>\n",
              "      <td>3.0</td>\n",
              "      <td>4.0</td>\n",
              "      <td>0.039216</td>\n",
              "      <td>0.285714</td>\n",
              "      <td>4.857143</td>\n",
              "    </tr>\n",
              "    <tr>\n",
              "      <th>7</th>\n",
              "      <td>3.0</td>\n",
              "      <td>6.0</td>\n",
              "      <td>0.078431</td>\n",
              "      <td>0.571429</td>\n",
              "      <td>4.163265</td>\n",
              "    </tr>\n",
              "    <tr>\n",
              "      <th>8</th>\n",
              "      <td>4.0</td>\n",
              "      <td>6.0</td>\n",
              "      <td>0.058824</td>\n",
              "      <td>1.000000</td>\n",
              "      <td>7.285714</td>\n",
              "    </tr>\n",
              "  </tbody>\n",
              "</table>\n",
              "</div>"
            ],
            "text/plain": [
              "  Left Hand Side Right Hand Side   Support  Confidence      Lift\n",
              "0            1.0             2.0  0.039216    0.333333  4.250000\n",
              "1            1.0             3.0  0.098039    0.833333  6.071429\n",
              "2            1.0             6.0  0.058824    0.500000  3.642857\n",
              "3            2.0             3.0  0.039216    0.500000  3.642857\n",
              "4            2.0             4.0  0.019608    0.250000  4.250000\n",
              "5            2.0             6.0  0.039216    0.500000  3.642857\n",
              "6            3.0             4.0  0.039216    0.285714  4.857143\n",
              "7            3.0             6.0  0.078431    0.571429  4.163265\n",
              "8            4.0             6.0  0.058824    1.000000  7.285714"
            ]
          },
          "execution_count": 73,
          "metadata": {},
          "output_type": "execute_result"
        }
      ],
      "source": [
        "resultsinDataFrame"
      ]
    },
    {
      "cell_type": "markdown",
      "metadata": {
        "colab_type": "text",
        "id": "IjrrlYW4jpTR"
      },
      "source": [
        "### Displaying the results sorted by descending lifts"
      ]
    },
    {
      "cell_type": "code",
      "execution_count": 74,
      "metadata": {
        "colab": {
          "base_uri": "https://localhost:8080/",
          "height": 326
        },
        "colab_type": "code",
        "id": "nI7DJXng-nxQ",
        "outputId": "aac84e87-eb2a-4428-cf55-1c16d23ea3ed"
      },
      "outputs": [
        {
          "data": {
            "text/html": [
              "<div>\n",
              "<style scoped>\n",
              "    .dataframe tbody tr th:only-of-type {\n",
              "        vertical-align: middle;\n",
              "    }\n",
              "\n",
              "    .dataframe tbody tr th {\n",
              "        vertical-align: top;\n",
              "    }\n",
              "\n",
              "    .dataframe thead th {\n",
              "        text-align: right;\n",
              "    }\n",
              "</style>\n",
              "<table border=\"1\" class=\"dataframe\">\n",
              "  <thead>\n",
              "    <tr style=\"text-align: right;\">\n",
              "      <th></th>\n",
              "      <th>Left Hand Side</th>\n",
              "      <th>Right Hand Side</th>\n",
              "      <th>Support</th>\n",
              "      <th>Confidence</th>\n",
              "      <th>Lift</th>\n",
              "    </tr>\n",
              "  </thead>\n",
              "  <tbody>\n",
              "    <tr>\n",
              "      <th>8</th>\n",
              "      <td>4.0</td>\n",
              "      <td>6.0</td>\n",
              "      <td>0.058824</td>\n",
              "      <td>1.000000</td>\n",
              "      <td>7.285714</td>\n",
              "    </tr>\n",
              "    <tr>\n",
              "      <th>1</th>\n",
              "      <td>1.0</td>\n",
              "      <td>3.0</td>\n",
              "      <td>0.098039</td>\n",
              "      <td>0.833333</td>\n",
              "      <td>6.071429</td>\n",
              "    </tr>\n",
              "    <tr>\n",
              "      <th>6</th>\n",
              "      <td>3.0</td>\n",
              "      <td>4.0</td>\n",
              "      <td>0.039216</td>\n",
              "      <td>0.285714</td>\n",
              "      <td>4.857143</td>\n",
              "    </tr>\n",
              "    <tr>\n",
              "      <th>0</th>\n",
              "      <td>1.0</td>\n",
              "      <td>2.0</td>\n",
              "      <td>0.039216</td>\n",
              "      <td>0.333333</td>\n",
              "      <td>4.250000</td>\n",
              "    </tr>\n",
              "    <tr>\n",
              "      <th>4</th>\n",
              "      <td>2.0</td>\n",
              "      <td>4.0</td>\n",
              "      <td>0.019608</td>\n",
              "      <td>0.250000</td>\n",
              "      <td>4.250000</td>\n",
              "    </tr>\n",
              "    <tr>\n",
              "      <th>7</th>\n",
              "      <td>3.0</td>\n",
              "      <td>6.0</td>\n",
              "      <td>0.078431</td>\n",
              "      <td>0.571429</td>\n",
              "      <td>4.163265</td>\n",
              "    </tr>\n",
              "    <tr>\n",
              "      <th>2</th>\n",
              "      <td>1.0</td>\n",
              "      <td>6.0</td>\n",
              "      <td>0.058824</td>\n",
              "      <td>0.500000</td>\n",
              "      <td>3.642857</td>\n",
              "    </tr>\n",
              "    <tr>\n",
              "      <th>3</th>\n",
              "      <td>2.0</td>\n",
              "      <td>3.0</td>\n",
              "      <td>0.039216</td>\n",
              "      <td>0.500000</td>\n",
              "      <td>3.642857</td>\n",
              "    </tr>\n",
              "    <tr>\n",
              "      <th>5</th>\n",
              "      <td>2.0</td>\n",
              "      <td>6.0</td>\n",
              "      <td>0.039216</td>\n",
              "      <td>0.500000</td>\n",
              "      <td>3.642857</td>\n",
              "    </tr>\n",
              "  </tbody>\n",
              "</table>\n",
              "</div>"
            ],
            "text/plain": [
              "  Left Hand Side Right Hand Side   Support  Confidence      Lift\n",
              "8            4.0             6.0  0.058824    1.000000  7.285714\n",
              "1            1.0             3.0  0.098039    0.833333  6.071429\n",
              "6            3.0             4.0  0.039216    0.285714  4.857143\n",
              "0            1.0             2.0  0.039216    0.333333  4.250000\n",
              "4            2.0             4.0  0.019608    0.250000  4.250000\n",
              "7            3.0             6.0  0.078431    0.571429  4.163265\n",
              "2            1.0             6.0  0.058824    0.500000  3.642857\n",
              "3            2.0             3.0  0.039216    0.500000  3.642857\n",
              "5            2.0             6.0  0.039216    0.500000  3.642857"
            ]
          },
          "execution_count": 74,
          "metadata": {},
          "output_type": "execute_result"
        }
      ],
      "source": [
        "resultsinDataFrame.nlargest(n = 10, columns = 'Lift')"
      ]
    }
  ],
  "metadata": {
    "colab": {
      "collapsed_sections": [],
      "name": "apriori.ipynb",
      "provenance": [],
      "toc_visible": true
    },
    "kernelspec": {
      "display_name": "Python 3",
      "name": "python3"
    },
    "language_info": {
      "codemirror_mode": {
        "name": "ipython",
        "version": 3
      },
      "file_extension": ".py",
      "mimetype": "text/x-python",
      "name": "python",
      "nbconvert_exporter": "python",
      "pygments_lexer": "ipython3",
      "version": "3.10.4"
    }
  },
  "nbformat": 4,
  "nbformat_minor": 0
}
